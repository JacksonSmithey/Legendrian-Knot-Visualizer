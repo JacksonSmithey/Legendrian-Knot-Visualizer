
import numpy as np
import sympy as sp
import matplotlib.pyplot as plt

def main():
    
    #User input
    num_a = 0
    num_e = 1
    
    
    #Declare symbolic variables
    a = sp.symbol('a:{}'.format(num_a))
    e = sp.symbol('e:{}'.format(num_e))
    x = sp.symbol('x')
    
    
    #Declare symbolic functions
    f = sp.function('f')(x,e)
    f = (4-x**2)*e - e**3
    
    
    #Calculate dfe, dfx, gradient(f)
    dfe = sp.diff(f,e)
    dfx = sp.diff(f,x)
    grad_f = np.gradient(f)
    
    
    #Solve for gradient(f) = 0
    zerograd = sp.solve(grad_f, x)
    print(zerograd)
    
    #Store x values from gradient(f) = 0
    #xdata = zerograd.x
    xmin = min(zerograd)-3
    xmax = max(zerograd)+3
    print(xmin + " " + xmax)
    
    
    #Loop from min x to max x
    for i in np.arange(xmin, xmax, 0.01):
    
        #solve dfe = 0 given x
        sp.nonlinsolve(dfe, )
        
        
        #plot point (x at dfe=0, dfx at dfe=0, f at dfe=0)
        
        
        